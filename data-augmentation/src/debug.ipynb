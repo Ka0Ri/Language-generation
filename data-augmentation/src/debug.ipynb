{
 "cells": [
  {
   "cell_type": "code",
   "execution_count": 2,
   "metadata": {},
   "outputs": [],
   "source": [
    "from augmentation import DataAugmentaion\n",
    "import os\n",
    "\n",
    "path = os.path.dirname(os.getcwd())"
   ]
  },
  {
   "cell_type": "code",
   "execution_count": null,
   "metadata": {},
   "outputs": [],
   "source": []
  },
  {
   "cell_type": "code",
   "execution_count": 3,
   "metadata": {},
   "outputs": [],
   "source": [
    "# data = DataAugmentaion.load_data(path + \"/data/kornli/xnli.dev.ko.tsv\")\n"
   ]
  },
  {
   "cell_type": "code",
   "execution_count": 25,
   "metadata": {},
   "outputs": [],
   "source": [
    "DataAugmentaion.preset_split(path + \"/data/kornli/multinli.train.ko.tsv\", \n",
    "                        path + \"/data/kornli/multinli.train.ko.aug5.tsv\", p=0.1)"
   ]
  },
  {
   "cell_type": "code",
   "execution_count": 5,
   "metadata": {},
   "outputs": [],
   "source": [
    "# examples = DataAugmentaion.process_data(path + \"/data/kornli/xnli.aug.ko.tsv\", set_type=\"nli\")\n",
    "# print(examples[1])"
   ]
  },
  {
   "cell_type": "code",
   "execution_count": 6,
   "metadata": {},
   "outputs": [],
   "source": [
    "# examples = DataAugmentaion.process_data(path + \"/data/korsts/sts-test.aug.tsv\", set_type=\"sts\")\n",
    "# print(examples[5])"
   ]
  },
  {
   "cell_type": "code",
   "execution_count": 7,
   "metadata": {},
   "outputs": [],
   "source": [
    "# examples = DataAugmentaion.process_data(path + \"/data/nsmc/ratings_test.txt\", set_type=\"nscm\")\n",
    "# print(examples[5])"
   ]
  },
  {
   "cell_type": "code",
   "execution_count": 8,
   "metadata": {},
   "outputs": [],
   "source": [
    "# from konlpy.tag import Kkma\n",
    "# from konlpy.utils import pprint\n",
    "\n",
    "# kkma = Kkma()\n",
    "# pprint(kkma.sentences(u'네, 안녕하세요. 반갑습니다.'))"
   ]
  },
  {
   "cell_type": "code",
   "execution_count": 9,
   "metadata": {},
   "outputs": [],
   "source": [
    "# from koeda import EDA\n",
    "\n",
    "\n",
    "# eda = EDA(\n",
    "#     morpheme_analyzer=\"Okt\", alpha_sr=0.3, alpha_ri=0.3, alpha_rs=0.3, prob_rd=0.3\n",
    "# )\n",
    "\n",
    "# text = \"아버지가 방에 들어가신다\"\n",
    "\n",
    "# result = eda(text)\n",
    "# print(result)\n",
    "# # 아버지가 정실에 들어가신다\n",
    "\n",
    "# result = eda(text, p=(0.9, 0.9, 0.9, 0.9), repetition=2)\n",
    "# print(result)\n",
    "# # ['아버지가 객실 아빠 안방 방에 정실 들어가신다', '아버지가 탈의실 방 휴게실 에 안방 탈의실 들어가신다']"
   ]
  },
  {
   "cell_type": "code",
   "execution_count": 10,
   "metadata": {},
   "outputs": [
    {
     "data": {
      "text/plain": [
       "[['한 사나이가 자전거를 타고 있다', '한 남자가 사이클를 타고 있다'], ['끝 남자가 말하고 있다.', '한 아들가 말하고 있다.']]"
      ]
     },
     "execution_count": 10,
     "metadata": {},
     "output_type": "execute_result"
    }
   ],
   "source": [
    "# inputs = [\"한 남자가 자전거를 타고 있다\",\t\"한 남자가 말하고 있다.\"]\n",
    "\n",
    "# DataAugmentaion.aug_synonym_replacement(inputs, p=0.1, k=2)"
   ]
  },
  {
   "cell_type": "code",
   "execution_count": 11,
   "metadata": {},
   "outputs": [
    {
     "data": {
      "text/plain": [
       "[['한 남자가 자전거를 타고 극한 있다', '한 남자가 도 자전거를 타고 있다'],\n",
       " ['한 남자가 말하고 있다 워드 .', '한 상담 남자가 말하고 있다.']]"
      ]
     },
     "execution_count": 11,
     "metadata": {},
     "output_type": "execute_result"
    }
   ],
   "source": [
    "# inputs = [\"한 남자가 자전거를 타고 있다\",\t\"한 남자가 말하고 있다.\"]\n",
    "\n",
    "# DataAugmentaion.aug_random_insertion(inputs, p=0.1, k=2)"
   ]
  },
  {
   "cell_type": "code",
   "execution_count": 12,
   "metadata": {},
   "outputs": [
    {
     "data": {
      "text/plain": [
       "[['한 남자가 자전거 타고를있다', '한 남자가 자전거를 타고 있다'], ['한 남자가 말하고 .있다', '한.남자가 말하고 있다']]"
      ]
     },
     "execution_count": 12,
     "metadata": {},
     "output_type": "execute_result"
    }
   ],
   "source": [
    "# inputs = [\"한 남자가 자전거를 타고 있다\",\t\"한 남자가 말하고 있다.\"]\n",
    "\n",
    "# DataAugmentaion.aug_random_swap(inputs, p=0.1, k=2)"
   ]
  },
  {
   "cell_type": "code",
   "execution_count": 13,
   "metadata": {},
   "outputs": [
    {
     "data": {
      "text/plain": [
       "[['한 남자가 자전거를 타고 있다', '한 남자가 자전거 타고 있다'], ['한 남자가 말하고 .', '남자가 말 있다.']]"
      ]
     },
     "execution_count": 13,
     "metadata": {},
     "output_type": "execute_result"
    }
   ],
   "source": [
    "# inputs = [\"한 남자가 자전거를 타고 있다\",\t\"한 남자가 말하고 있다.\"]\n",
    "\n",
    "# DataAugmentaion.aug_random_deletion(inputs, p=0.2, k=2)"
   ]
  },
  {
   "cell_type": "code",
   "execution_count": 14,
   "metadata": {},
   "outputs": [
    {
     "data": {
      "text/plain": [
       "['한 남자가자전거 를 타고 있다', '한 남자가 타고를 자전거 있다', '한 남자가 말하고.있다', '남자가 말하고한있다.']"
      ]
     },
     "execution_count": 14,
     "metadata": {},
     "output_type": "execute_result"
    }
   ],
   "source": [
    "# inputs = [\"한 남자가 자전거를 타고 있다\",\t\"한 남자가 말하고 있다.\"]\n",
    "\n",
    "# DataAugmentaion.aug_EAD(inputs, p=0.2, k=2)"
   ]
  }
 ],
 "metadata": {
  "interpreter": {
   "hash": "d3aa6a1b8c7aef28d43b68943343730f35af6981b820292828298c7c5df41192"
  },
  "kernelspec": {
   "display_name": "Python 3.8.12 ('NLP')",
   "language": "python",
   "name": "python3"
  },
  "language_info": {
   "codemirror_mode": {
    "name": "ipython",
    "version": 3
   },
   "file_extension": ".py",
   "mimetype": "text/x-python",
   "name": "python",
   "nbconvert_exporter": "python",
   "pygments_lexer": "ipython3",
   "version": "3.8.12"
  },
  "orig_nbformat": 4
 },
 "nbformat": 4,
 "nbformat_minor": 2
}
