{
 "cells": [
  {
   "cell_type": "code",
   "execution_count": 1,
   "metadata": {},
   "outputs": [],
   "source": [
    "from augmentation import DataAugmentaion\n",
    "import os\n",
    "\n",
    "path = os.path.dirname(os.getcwd())"
   ]
  },
  {
   "cell_type": "code",
   "execution_count": 2,
   "metadata": {},
   "outputs": [],
   "source": [
    "# for i in range(1, 2):\n",
    "#     aug_ex = DataAugmentaion.augment_data(path + \"/data/nsmc/ratings_train_pre{}.txt\".format(i),\n",
    "#                         path + \"/data/nsmc/ratings_train_aug_bt1{}.txt\".format(i),\n",
    "#                         data_type = \"nscm\",\n",
    "#                         mode=\"bt\")"
   ]
  },
  {
   "cell_type": "code",
   "execution_count": 3,
   "metadata": {},
   "outputs": [],
   "source": [
    "# for i in range(1, 2):\n",
    "#     aug_ex = DataAugmentaion.augment_data(path + \"/data/question-pair/train_pre{}.tsv\".format(i),\n",
    "#                         path + \"/data/question-pair/train_aug_bt{}.tsv\".format(i),\n",
    "#                         data_type = \"questionpair\", \n",
    "#                         mode=\"bt\")"
   ]
  },
  {
   "cell_type": "code",
   "execution_count": 4,
   "metadata": {},
   "outputs": [],
   "source": [
    "# for i in range(1, 6):\n",
    "#     aug_ex = DataAugmentaion.augment_data(path + \"/data/question-pair/train_pre{}.tsv\".format(i),\n",
    "#                         path + \"/data/question-pair/train_aug{}.tsv\".format(i),\n",
    "#                         data_type = \"questionpair\", p=0.2)"
   ]
  },
  {
   "cell_type": "code",
   "execution_count": 5,
   "metadata": {},
   "outputs": [],
   "source": [
    "for i in range(1, 6):\n",
    "    aug_ex = DataAugmentaion.augment_data(path + \"/data/korsts/pre{}/sts-train.tsv\".format(i),\n",
    "                        path + \"/data/korsts/sts-train-aug{}.tsv\".format(i + 5),\n",
    "                        data_type = \"sts\", p=0.1, k = 2)\n",
    "\n"
   ]
  },
  {
   "cell_type": "code",
   "execution_count": null,
   "metadata": {},
   "outputs": [],
   "source": [
    "# for i in range(2, 3):\n",
    "#     aug_ex = DataAugmentaion.augment_data(path + \"/data/korsts/pre{}/sts-train.tsv\".format(i),\n",
    "#                         path + \"/data/korsts/aug-bt{}/sts-train.tsv\".format(i),\n",
    "#                         data_type = \"sts\",\n",
    "#                         mode = \"bt\")\n"
   ]
  },
  {
   "cell_type": "code",
   "execution_count": null,
   "metadata": {},
   "outputs": [],
   "source": [
    "# for i in range(3, 4):\n",
    "#     aug_ex = DataAugmentaion.augment_data(path + \"/data/kornli/pre{}/multinli.train.ko.tsv\".format(i),\n",
    "#                         path + \"/data/kornli/aug-bt{}/multinli.train.ko.tsv\".format(i), \n",
    "#                         mode=\"bt\",\n",
    "#                         data_type = \"nli\")"
   ]
  },
  {
   "cell_type": "code",
   "execution_count": null,
   "metadata": {},
   "outputs": [],
   "source": [
    "# for i in range(1, 6):\n",
    "#     DataAugmentaion.preset_split(path + \"/data/korsts/sts-train.tsv\", \n",
    "#                         path + \"/data/korsts/pre{}/sts-train.tsv\".format(i), p=0.3)"
   ]
  },
  {
   "cell_type": "code",
   "execution_count": null,
   "metadata": {},
   "outputs": [],
   "source": [
    "# for i in range(1, 6):\n",
    "#     DataAugmentaion.preset_split(path + \"/data/nsmc/ratings_train.txt\",\n",
    "#                         path + \"/data/nsmc/ratings_train_pre{}.txt\".format(i), p=0.02)"
   ]
  },
  {
   "cell_type": "code",
   "execution_count": null,
   "metadata": {},
   "outputs": [],
   "source": [
    "# for i in range(1, 6):\n",
    "#     DataAugmentaion.preset_split(path + \"/data/question-pair/train.tsv\",\n",
    "#                         path + \"/data/question-pair/train_pre{}.tsv\".format(i), p=0.3)"
   ]
  },
  {
   "cell_type": "code",
   "execution_count": null,
   "metadata": {},
   "outputs": [],
   "source": [
    "# for i in range(1, 6):\n",
    "#     aug_ex = DataAugmentaion.augment_data(path + \"/data/nsmc/ratings_train_pre{}.txt\".format(i),\n",
    "#                         path + \"/data/nsmc/ratings_train_aug{}.txt\".format(i),\n",
    "#                         data_type = \"nscm\", p=0.2)"
   ]
  },
  {
   "cell_type": "code",
   "execution_count": null,
   "metadata": {},
   "outputs": [],
   "source": [
    "# examples = DataAugmentaion.process_data(path + \"/data/kornli/xnli.aug.ko.tsv\", set_type=\"nli\")\n",
    "# print(examples[1])"
   ]
  },
  {
   "cell_type": "code",
   "execution_count": null,
   "metadata": {},
   "outputs": [],
   "source": [
    "# examples = DataAugmentaion.process_data(path + \"/data/korsts/sts-test.aug.tsv\", set_type=\"sts\")\n",
    "# print(examples[5])"
   ]
  },
  {
   "cell_type": "code",
   "execution_count": null,
   "metadata": {},
   "outputs": [],
   "source": [
    "# examples = DataAugmentaion.process_data(path + \"/data/nsmc/ratings_test.txt\", set_type=\"nscm\")\n",
    "# print(examples[5])"
   ]
  },
  {
   "cell_type": "code",
   "execution_count": null,
   "metadata": {},
   "outputs": [],
   "source": [
    "# from konlpy.tag import Kkma\n",
    "# from konlpy.utils import pprint\n",
    "\n",
    "# kkma = Kkma()\n",
    "# pprint(kkma.sentences(u'네, 안녕하세요. 반갑습니다.'))"
   ]
  },
  {
   "cell_type": "code",
   "execution_count": null,
   "metadata": {},
   "outputs": [],
   "source": [
    "# from koeda import EDA\n",
    "\n",
    "\n",
    "# eda = EDA(\n",
    "#     morpheme_analyzer=\"Okt\", alpha_sr=0.3, alpha_ri=0.3, alpha_rs=0.3, prob_rd=0.3\n",
    "# )\n",
    "\n",
    "# text = \"아버지가 방에 들어가신다\"\n",
    "\n",
    "# result = eda(text)\n",
    "# print(result)\n",
    "# # 아버지가 정실에 들어가신다\n",
    "\n",
    "# result = eda(text, p=(0.9, 0.9, 0.9, 0.9), repetition=2)\n",
    "# print(result)\n",
    "# # ['아버지가 객실 아빠 안방 방에 정실 들어가신다', '아버지가 탈의실 방 휴게실 에 안방 탈의실 들어가신다']"
   ]
  },
  {
   "cell_type": "code",
   "execution_count": null,
   "metadata": {},
   "outputs": [],
   "source": [
    "# inputs = [\"한 남자가 자전거를 타고 있다\",\t\"한 남자가 말하고 있다.\"]\n",
    "\n",
    "# DataAugmentaion.aug_synonym_replacement(inputs, p=0.1, k=2)"
   ]
  },
  {
   "cell_type": "code",
   "execution_count": null,
   "metadata": {},
   "outputs": [],
   "source": [
    "# inputs = [\"한 남자가 자전거를 타고 있다\",\t\"한 남자가 말하고 있다.\"]\n",
    "\n",
    "# DataAugmentaion.aug_random_insertion(inputs, p=0.1, k=2)"
   ]
  },
  {
   "cell_type": "code",
   "execution_count": null,
   "metadata": {},
   "outputs": [],
   "source": [
    "# inputs = [\"한 남자가 자전거를 타고 있다\",\t\"한 남자가 말하고 있다.\"]\n",
    "\n",
    "# DataAugmentaion.aug_random_swap(inputs, p=0.1, k=2)"
   ]
  },
  {
   "cell_type": "code",
   "execution_count": null,
   "metadata": {},
   "outputs": [],
   "source": [
    "# inputs = [\"한 남자가 자전거를 타고 있다\",\t\"한 남자가 말하고 있다.\"]\n",
    "\n",
    "# DataAugmentaion.aug_random_deletion(inputs, p=0.2, k=2)"
   ]
  },
  {
   "cell_type": "code",
   "execution_count": null,
   "metadata": {},
   "outputs": [],
   "source": [
    "# inputs = [\"한 남자가 자전거를 타고 있다\",\t\"한 남자가 말하고 있다.\"]\n",
    "\n",
    "# DataAugmentaion.aug_EAD(inputs, p=0.2, k=2)"
   ]
  },
  {
   "cell_type": "code",
   "execution_count": null,
   "metadata": {},
   "outputs": [],
   "source": [
    "# from googletrans import Translator\n",
    "\n",
    "# inputs = [\"한 남자가 자전거를 타고 있다\",\t\"한 남자가 말하고 있다.\"]\n",
    "\n",
    "# translator = Translator()\n",
    "# eng_trans = translator.translate(inputs[1], src='ko', dest='en').text\n",
    "# print(eng_trans)\n",
    "# kor_backtrans = translator.translate(eng_trans, src='en', dest='ko').text\n",
    "# print(kor_backtrans)\n",
    "# eng_trans = translator.translate(kor_backtrans, src='ko', dest='en').text\n",
    "# print(eng_trans)\n",
    "# kor_backtrans = translator.translate(eng_trans, src='en', dest='ko').text\n",
    "# print(kor_backtrans)"
   ]
  },
  {
   "cell_type": "code",
   "execution_count": null,
   "metadata": {},
   "outputs": [],
   "source": [
    "# inputs = [\"한 남자가 자전거를 타고 있다\", \"한 남자가 말하고 있다.\"]\n",
    "\n",
    "# DataAugmentaion.aug_BT(inputs, k=2)"
   ]
  },
  {
   "cell_type": "code",
   "execution_count": null,
   "metadata": {},
   "outputs": [],
   "source": [
    "# from easynmt import EasyNMT\n",
    "# from googletrans import Translator\n",
    "# model = EasyNMT('opus-mt')\n",
    "\n",
    "\n",
    "# # print(model.translate('This is a sentence we want to translate to German', target_lang='ko'))\n",
    "\n",
    "\n",
    "# inputs = [\"한 남자가 자전거를 타고 있다\", \"한 남자가 말하고 있다.\"]\n",
    "# translator = Translator()\n",
    "# eng_trans = model.translate(inputs[1], source_lang=\"ko\", target_lang='en')\n",
    "# print(eng_trans)\n",
    "# print(translator.translate(eng_trans, src='en', dest='ko').text)"
   ]
  },
  {
   "cell_type": "code",
   "execution_count": null,
   "metadata": {},
   "outputs": [],
   "source": [
    "inputs = [\"한 남자가 자전거를 타고 있다\", \"한 남자가 말하고 있다.\"]\n",
    "# DataAugmentaion.aug_BT(inputs)"
   ]
  }
 ],
 "metadata": {
  "interpreter": {
   "hash": "d3aa6a1b8c7aef28d43b68943343730f35af6981b820292828298c7c5df41192"
  },
  "kernelspec": {
   "display_name": "Python 3.8.12 ('NLP')",
   "language": "python",
   "name": "python3"
  },
  "language_info": {
   "codemirror_mode": {
    "name": "ipython",
    "version": 3
   },
   "file_extension": ".py",
   "mimetype": "text/x-python",
   "name": "python",
   "nbconvert_exporter": "python",
   "pygments_lexer": "ipython3",
   "version": "3.8.12"
  },
  "orig_nbformat": 4
 },
 "nbformat": 4,
 "nbformat_minor": 2
}
